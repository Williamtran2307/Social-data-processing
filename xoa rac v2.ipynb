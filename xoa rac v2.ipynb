{
 "cells": [
  {
   "cell_type": "code",
   "execution_count": 1,
   "id": "defd62ac",
   "metadata": {},
   "outputs": [],
   "source": [
    "# vị trí chưa file data - sau tên file phải có đuôi XLSX\n",
    "Link_Data = r'G:\\Other computers\\My Laptop\\Desktop\\KOMPA\\data\\NOVALAND\\october\\data.xlsx'\n",
    "# vị trí chứa file key- sau tên file phải có đuôi XLSX\n",
    "Link_key = r'G:\\Other computers\\My Laptop\\Desktop\\KOMPA\\data\\VINGROUP\\key_novagroup.xlsx'\n",
    "### nếu data trên 50k buzz thì hãy chọn link2 là link 1 file khác\n",
    "Link2 = r'G:\\Other computers\\My Laptop\\Desktop\\KOMPA\\data\\NOVALAND\\october\\kq.xlsx'\n"
   ]
  },
  {
   "cell_type": "code",
   "execution_count": 2,
   "id": "e714ded5",
   "metadata": {
    "scrolled": true
   },
   "outputs": [
    {
     "data": {
      "text/plain": [
       "'# xử lí siteid => parent id \\nfor idx in data.index: \\n    if data.loc[idx,\"check\"] == \"None_check\":\\n        SiteID = data.loc[idx,\"SiteId\"]\\n        for key in SiteID_key:\\n            if str(SiteID) == str(key):\\n                data.loc[idx,\"label_suggest\"] = \"spam_Siteid\"\\n                data.loc[idx,\"check\"] = \"checked\"\\n                break\\n    if data.loc[idx,\"check\"] == \"None_check\":\\n        ParentID = data.loc[idx,\"ParentId\"]\\n        for key in Parent_ID_key:\\n            if str(ParentID) == str(key):\\n                data.loc[idx,\"label_suggest\"] = \"spam_Siteid\"\\n                data.loc[idx,\"check\"] = \"checked\"\\n                break\\n    \\n\\n\\n# xử lí title và content\\nfor idx in data.index: \\n    if data.loc[idx,\"check\"] == \"None_check\":\\n        title = data.loc[idx,\"modi_title\"]\\n        Channel = data.loc[idx,\"Channel\"]\\n        if Title_dict[Channel] == []:\\n            continue\\n        else:\\n            for key in Title_dict[Channel]:\\n                if str(key).lower() in title:\\n                    data.loc[idx,\"label_suggest\"] = \"spam_Title\"\\n                    data.loc[idx,\"check\"] = \"checked\"\\n                    break\\n    if data.loc[idx,\"check\"] == \"None_check\":\\n        content = data.loc[idx,\"modi_content\"]\\n        Channel = data.loc[idx,\"Channel\"]\\n        if Content_dict[Channel] == []:\\n            continue\\n        else:\\n            for key in Content_key:\\n                if str(key).lower() in content:\\n                    data.loc[idx,\"label_suggest\"] = \"spam_Content\"\\n                    data.loc[idx,\"check\"] = \"checked\"\\n                    break\\n\\n\\n\\n# đánh dấu các label còn lại\\nfor idx in data.index: \\n    if data.loc[idx,\"check\"] == \"None_check\":\\n        data.loc[idx,\"label_suggest\"] = \"other\"\\n        data.loc[idx,\"check\"] = \\'checked\\' '"
      ]
     },
     "execution_count": 2,
     "metadata": {},
     "output_type": "execute_result"
    }
   ],
   "source": [
    "### ko sửa đổi bất cứ thông tin gì ở dưới\n",
    "import pandas as pd\n",
    "from openpyxl.workbook import Workbook\n",
    "wb = Workbook()\n",
    "#wb.create_sheet\n",
    "#wb.save(filename = 'sample_book.xlsx')\n",
    "import openpyxl\n",
    "import numpy as np\n",
    "\n",
    "def text_modify(text_input):\n",
    "    text = str(text_input).lower()\n",
    "    return text\n",
    "\n",
    "def isspam (text):\n",
    "    result = False\n",
    "    if text == \"no data\":\n",
    "        result = True\n",
    "    else:\n",
    "        for i in range(0,len(text)):\n",
    "            if text[i].isalnum() :\n",
    "                result = False\n",
    "                break\n",
    "            else:\n",
    "                if i == (len(text)-1):\n",
    "                    result = True\n",
    "    return result\n",
    "\n",
    "\n",
    "data = pd.read_excel(Link_Data,sheet_name=\"Data\")\n",
    "Title_key = pd.read_excel(Link_key,sheet_name=\"Title\")\n",
    "Content_key = pd.read_excel(Link_key,sheet_name=\"Content\")\n",
    "SiteID_key = pd.read_excel(Link_key,sheet_name=\"SiteID\")\n",
    "Parent_ID_key = pd.read_excel(Link_key,sheet_name=\"ParentID\")\n",
    "Fanpage_key = pd.read_excel(Link_key,sheet_name=\"Fanpage\")\n",
    "# lấy data\n",
    "SiteID_key = list(SiteID_key[\"SiteID\"])\n",
    "Parent_ID_key = list(Parent_ID_key[\"ParentID\"])\n",
    "\n",
    "Title_dict= {}\n",
    "Content_dict = {}\n",
    "list_channel= [\"Facebook\",\"News\",\"Forum\",\"Youtube\",\"E-commerce\",\"Social\"]\n",
    "for i in list_channel:\n",
    "    Title_dict[i] = []\n",
    "    Content_dict[i] = []\n",
    "# dict key của title\n",
    "for idx in Title_key.index:\n",
    "    Channel = Title_key.loc[idx,\"Channel\"]\n",
    "    Title_dict[Channel] += [str(Title_key.loc[idx,\"Key_word\"])]\n",
    "# dict key của content    \n",
    "for idx in Content_key.index:\n",
    "    Channel = Content_key.loc[idx,\"Channel\"]\n",
    "    Content_dict[Channel] += [str(Content_key.loc[idx,\"Key_word\"])]\n",
    "    \n",
    "# research spam youtube\n",
    "data[\"Content\"] = data[\"Content\"].fillna(\"no data\")\n",
    "data[\"modi_content\"] = data[\"Content\"].apply(text_modify)\n",
    "data[\"modi_title\"] = data[\"Title\"].apply(text_modify)\n",
    "data[\"check\"] = \"None_check\"\n",
    "data[\"label_suggest\"] = \"None_mark\"\n",
    "\n",
    "# fanpage\n",
    "Fanpage_key = list(Fanpage_key[\"ID\"])\n",
    "for idx in data.index:\n",
    "    for key in Fanpage_key:\n",
    "        if str(key) == data.loc[idx,\"SiteId\"]:\n",
    "            data.loc[idx,\"Channel\"] = \"Fanpage\"\n",
    "            data.loc[idx,\"check\"] = \"checked\"\n",
    "            data.loc[idx,\"label_suggest\"] = \"fanpage\"\n",
    "            \n",
    "\n",
    "\n",
    "# xóa rác ký tự\n",
    "for idx in data.index: \n",
    "    if data.loc[idx,\"check\"] == \"None_check\":\n",
    "        content = data.loc[idx,\"modi_content\"]\n",
    "        title = data.loc[idx,\"modi_title\"]\n",
    "        channel = data.loc[idx,\"Channel\"]\n",
    "        if isspam(content) == True:\n",
    "            data.loc[idx,\"label_suggest\"] = \"spam_ký tự\"\n",
    "            data.loc[idx,\"check\"] = \"checked\"\n",
    "\n",
    "\n",
    "# xử lí siteid => parent id \n",
    "for idx in data.index: \n",
    "    if data.loc[idx,\"check\"] == \"None_check\":\n",
    "        SiteID = data.loc[idx,\"SiteId\"]\n",
    "        for key in SiteID_key:\n",
    "            if str(SiteID) == str(key):\n",
    "                data.loc[idx,\"label_suggest\"] = \"spam_Siteid\"\n",
    "                data.loc[idx,\"check\"] = \"checked\"\n",
    "                break\n",
    "    if data.loc[idx,\"check\"] == \"None_check\":\n",
    "        ParentID = data.loc[idx,\"ParentId\"]\n",
    "        for key in Parent_ID_key:\n",
    "            if str(ParentID) == str(key):\n",
    "                data.loc[idx,\"label_suggest\"] = \"spam_Siteid\"\n",
    "                data.loc[idx,\"check\"] = \"checked\"\n",
    "                break\n",
    "    \n",
    "\n",
    "\n",
    "# xử lí title và content\n",
    "for idx in data.index: \n",
    "    if data.loc[idx,\"check\"] == \"None_check\":\n",
    "        title = data.loc[idx,\"modi_title\"]\n",
    "        Channel = data.loc[idx,\"Channel\"]\n",
    "        if Title_dict[Channel] == []:\n",
    "            continue\n",
    "        else:\n",
    "            for key in Title_dict[Channel]:\n",
    "                if str(key).lower() in title:\n",
    "                    data.loc[idx,\"label_suggest\"] = \"spam_Title\"\n",
    "                    data.loc[idx,\"check\"] = \"checked\"\n",
    "                    break\n",
    "    if data.loc[idx,\"check\"] == \"None_check\":\n",
    "        content = data.loc[idx,\"modi_content\"]\n",
    "        Channel = data.loc[idx,\"Channel\"]\n",
    "        if Content_dict[Channel] == []:\n",
    "            continue\n",
    "        else:\n",
    "            for key in Content_key:\n",
    "                if str(key).lower() in content:\n",
    "                    data.loc[idx,\"label_suggest\"] = \"spam_Content\"\n",
    "                    data.loc[idx,\"check\"] = \"checked\"\n",
    "                    break\n",
    "\n",
    "\n",
    "\n",
    "# đánh dấu các label còn lại\n",
    "for idx in data.index: \n",
    "    if data.loc[idx,\"check\"] == \"None_check\":\n",
    "        data.loc[idx,\"label_suggest\"] = \"other\"\n",
    "        data.loc[idx,\"check\"] = 'checked' "
   ]
  },
  {
   "cell_type": "code",
   "execution_count": 3,
   "id": "f383426f",
   "metadata": {
    "scrolled": true
   },
   "outputs": [],
   "source": [
    "data = data[['Id', 'TopicId',\"label_suggest\", 'Topic', 'Title', 'Content', 'Description',\n",
    "       'UrlComment', 'PublishedDate', 'Sentiment', 'SiteName', 'SiteId',\n",
    "       'Channel', 'Author', 'AuthorId', 'UrlTopic', 'ParentId', 'Labels1',\n",
    "       'Labels2', 'Labels3', 'Labels4', 'Type', 'Level', 'Tags', 'Labels']]\n",
    "data = data.set_index(\"Id\")"
   ]
  },
  {
   "cell_type": "code",
   "execution_count": 4,
   "id": "6235cb21",
   "metadata": {
    "scrolled": true
   },
   "outputs": [
    {
     "name": "stdout",
     "output_type": "stream",
     "text": [
      "Đã xử lý dữ liệu xong\n"
     ]
    }
   ],
   "source": [
    "writer = pd.ExcelWriter(Link2,engine=\"openpyxl\",mode='a',if_sheet_exists=\"replace\")\n",
    "# write dataframe to excel sheet named 'youtube'\n",
    "data.to_excel(writer, \"Data_modified\")\n",
    "# save the excel file\n",
    "writer.save()\n",
    "\n",
    "\n",
    "print(\"Đã xử lý dữ liệu xong\")"
   ]
  },
  {
   "cell_type": "code",
   "execution_count": null,
   "id": "9d0404e1",
   "metadata": {},
   "outputs": [],
   "source": []
  }
 ],
 "metadata": {
  "kernelspec": {
   "display_name": "Python 3 (ipykernel)",
   "language": "python",
   "name": "python3"
  },
  "language_info": {
   "codemirror_mode": {
    "name": "ipython",
    "version": 3
   },
   "file_extension": ".py",
   "mimetype": "text/x-python",
   "name": "python",
   "nbconvert_exporter": "python",
   "pygments_lexer": "ipython3",
   "version": "3.9.7"
  }
 },
 "nbformat": 4,
 "nbformat_minor": 5
}
